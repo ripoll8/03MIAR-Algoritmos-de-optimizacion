{
  "nbformat": 4,
  "nbformat_minor": 0,
  "metadata": {
    "colab": {
      "provenance": [],
      "include_colab_link": true
    },
    "kernelspec": {
      "name": "python3",
      "display_name": "Python 3"
    },
    "language_info": {
      "name": "python"
    }
  },
  "cells": [
    {
      "cell_type": "markdown",
      "metadata": {
        "id": "view-in-github",
        "colab_type": "text"
      },
      "source": [
        "<a href=\"https://colab.research.google.com/github/ripoll8/03MIAR-Algoritmos-de-optimizacion/blob/main/AG1_Daniel_Ripoll_Martin.ipynb\" target=\"_parent\"><img src=\"https://colab.research.google.com/assets/colab-badge.svg\" alt=\"Open In Colab\"/></a>"
      ]
    },
    {
      "cell_type": "markdown",
      "metadata": {
        "id": "GG2D6vLdYwwy"
      },
      "source": [
        "Actividad Guiada 1 de Algoritmos de Optimizacion\n",
        "\n",
        "Nombre: Daniel Ripoll Martín\n",
        "\n",
        "https://colab.research.google.com/drive/xxxxxxxxxxxxxxxxxxxxxx\n",
        "\n",
        "https://github.com/ripoll8/03MIAR-Algoritmos-de-optimizacion"
      ]
    },
    {
      "cell_type": "code",
      "metadata": {
        "id": "rTiqLuX2ZKuL",
        "outputId": "b55fa0f0-8254-4e7c-a4e3-1da9a0b73173",
        "colab": {
          "base_uri": "https://localhost:8080/"
        }
      },
      "source": [
        "#Torres de Hanoi - Divide y venceras\n",
        "################################################################################\n",
        "\n",
        "\n",
        "################################################################\n",
        "def Torres_Hanoi(N, desde, hasta):\n",
        "  #N - Nº de fichas\n",
        "  #desde - torre inicial\n",
        "  #hasta - torre fina\n",
        "  if N==1 :\n",
        "    print(\"Lleva la ficha desde \" + str(desde) + \" hasta \" + str(hasta))\n",
        "\n",
        "  else:\n",
        "    Torres_Hanoi(N-1, desde, 6-desde-hasta)\n",
        "    print(\"Lleva la ficha desde \" + str(desde) + \" hasta \" + str(hasta))\n",
        "    Torres_Hanoi(N-1, 6-desde-hasta,  hasta)\n",
        "\n",
        "Torres_Hanoi(3, 1, 3)\n",
        "################################################################"
      ],
      "execution_count": null,
      "outputs": [
        {
          "output_type": "stream",
          "name": "stdout",
          "text": [
            "Lleva la ficha desde 1 hasta 3\n",
            "Lleva la ficha desde 1 hasta 2\n",
            "Lleva la ficha desde 3 hasta 2\n",
            "Lleva la ficha desde 1 hasta 3\n",
            "Lleva la ficha desde 2 hasta 1\n",
            "Lleva la ficha desde 2 hasta 3\n",
            "Lleva la ficha desde 1 hasta 3\n"
          ]
        }
      ]
    },
    {
      "cell_type": "code",
      "metadata": {
        "id": "UTL6wiczQVDA"
      },
      "source": [],
      "execution_count": null,
      "outputs": []
    },
    {
      "cell_type": "code",
      "metadata": {
        "id": "YwBudj2hYoMR",
        "colab": {
          "base_uri": "https://localhost:8080/"
        },
        "outputId": "c9eaf544-4ca9-4d30-fe8a-b2543ad83d24"
      },
      "source": [
        "#Cambio de monedas - Técnica voraz\n",
        "################################################################################\n",
        "SISTEMA = [12, 5 ,2, 1  ]\n",
        "################################################################\n",
        "def cambio_monedas(CANTIDAD,SISTEMA):\n",
        "#....\n",
        "  SOLUCION = [0]*len(SISTEMA)\n",
        "  ValorAcumulado = 0\n",
        "\n",
        "  for i,valor in enumerate(SISTEMA):\n",
        "    monedas = (CANTIDAD-ValorAcumulado)//valor\n",
        "    SOLUCION[i] = monedas\n",
        "    ValorAcumulado = ValorAcumulado + monedas*valor\n",
        "\n",
        "    if CANTIDAD == ValorAcumulado:\n",
        "      return SOLUCION\n",
        "\n",
        "  print(\"No es posible encontrar solucion\")\n",
        "cambio_monedas(15,SISTEMA)\n",
        "\n",
        "\n",
        "################################################################"
      ],
      "execution_count": null,
      "outputs": [
        {
          "output_type": "execute_result",
          "data": {
            "text/plain": [
              "[1, 0, 1, 1]"
            ]
          },
          "metadata": {},
          "execution_count": 3
        }
      ]
    },
    {
      "cell_type": "code",
      "metadata": {
        "id": "9toJ4WjhQUNj"
      },
      "source": [],
      "execution_count": null,
      "outputs": []
    },
    {
      "cell_type": "code",
      "metadata": {
        "id": "H4Iwt2XRZTFr",
        "colab": {
          "base_uri": "https://localhost:8080/"
        },
        "outputId": "4a9abbe7-b47f-4aad-fc18-7530f677c570"
      },
      "source": [
        "#N Reinas - Vuelta Atrás()\n",
        "################################################################################\n",
        "\n",
        "#Verifica que en la solución parcial no hay amenzas entre reinas\n",
        "################################################################\n",
        "def es_prometedora(SOLUCION,etapa):\n",
        "################################################################\n",
        "  #print(SOLUCION)\n",
        "  #Si la solución tiene dos valores iguales no es valida => Dos reinas en la misma fila\n",
        "  for i in range(etapa+1):\n",
        "    #print(\"El valor \" + str(SOLUCION[i]) + \" está \" +  str(SOLUCION.count(SOLUCION[i])) + \" veces\")\n",
        "    if SOLUCION.count(SOLUCION[i]) > 1:\n",
        "      return False\n",
        "\n",
        "    #Verifica las diagonales\n",
        "    for j in range(i+1, etapa +1 ):\n",
        "      #print(\"Comprobando diagonal de \" + str(i) + \" y \" + str(j))\n",
        "      if abs(i-j) == abs(SOLUCION[i]-SOLUCION[j]) : return False\n",
        "  return True\n",
        "\n",
        "#Traduce la solución al tablero\n",
        "################################################################\n",
        "def escribe_solucion(S):\n",
        "################################################################\n",
        "  n = len(S)\n",
        "  for x in range(n):\n",
        "    print(\"\")\n",
        "    for i in range(n):\n",
        "      if S[i] == x+1:\n",
        "        print(\" X \" , end=\"\")\n",
        "      else:\n",
        "        print(\" - \", end=\"\")\n",
        "\n",
        "\n",
        "\n",
        "#Proceso principal de N-Reinas\n",
        "################################################################\n",
        "def reinas(N, solucion=[],etapa=0):\n",
        "################################################################\n",
        "### ....\n",
        "  if len(solucion) == 0:         # [0,0,0...]\n",
        "    solucion = [0 for i in range(N) ]\n",
        "\n",
        "  for i in range(1, N+1):\n",
        "    solucion[etapa] = i\n",
        "    if es_prometedora(solucion, etapa):\n",
        "      if etapa == N-1:\n",
        "        print(solucion)\n",
        "      else:\n",
        "        reinas(N, solucion, etapa+1)\n",
        "    else:\n",
        "      None\n",
        "\n",
        "  solucion[etapa] = 0\n",
        "\n",
        "reinas(8,solucion=[],etapa=0)"
      ],
      "execution_count": null,
      "outputs": [
        {
          "output_type": "stream",
          "name": "stdout",
          "text": [
            "[1, 5, 8, 6, 3, 7, 2, 4]\n",
            "[1, 6, 8, 3, 7, 4, 2, 5]\n",
            "[1, 7, 4, 6, 8, 2, 5, 3]\n",
            "[1, 7, 5, 8, 2, 4, 6, 3]\n",
            "[2, 4, 6, 8, 3, 1, 7, 5]\n",
            "[2, 5, 7, 1, 3, 8, 6, 4]\n",
            "[2, 5, 7, 4, 1, 8, 6, 3]\n",
            "[2, 6, 1, 7, 4, 8, 3, 5]\n",
            "[2, 6, 8, 3, 1, 4, 7, 5]\n",
            "[2, 7, 3, 6, 8, 5, 1, 4]\n",
            "[2, 7, 5, 8, 1, 4, 6, 3]\n",
            "[2, 8, 6, 1, 3, 5, 7, 4]\n",
            "[3, 1, 7, 5, 8, 2, 4, 6]\n",
            "[3, 5, 2, 8, 1, 7, 4, 6]\n",
            "[3, 5, 2, 8, 6, 4, 7, 1]\n",
            "[3, 5, 7, 1, 4, 2, 8, 6]\n",
            "[3, 5, 8, 4, 1, 7, 2, 6]\n",
            "[3, 6, 2, 5, 8, 1, 7, 4]\n",
            "[3, 6, 2, 7, 1, 4, 8, 5]\n",
            "[3, 6, 2, 7, 5, 1, 8, 4]\n",
            "[3, 6, 4, 1, 8, 5, 7, 2]\n",
            "[3, 6, 4, 2, 8, 5, 7, 1]\n",
            "[3, 6, 8, 1, 4, 7, 5, 2]\n",
            "[3, 6, 8, 1, 5, 7, 2, 4]\n",
            "[3, 6, 8, 2, 4, 1, 7, 5]\n",
            "[3, 7, 2, 8, 5, 1, 4, 6]\n",
            "[3, 7, 2, 8, 6, 4, 1, 5]\n",
            "[3, 8, 4, 7, 1, 6, 2, 5]\n",
            "[4, 1, 5, 8, 2, 7, 3, 6]\n",
            "[4, 1, 5, 8, 6, 3, 7, 2]\n",
            "[4, 2, 5, 8, 6, 1, 3, 7]\n",
            "[4, 2, 7, 3, 6, 8, 1, 5]\n",
            "[4, 2, 7, 3, 6, 8, 5, 1]\n",
            "[4, 2, 7, 5, 1, 8, 6, 3]\n",
            "[4, 2, 8, 5, 7, 1, 3, 6]\n",
            "[4, 2, 8, 6, 1, 3, 5, 7]\n",
            "[4, 6, 1, 5, 2, 8, 3, 7]\n",
            "[4, 6, 8, 2, 7, 1, 3, 5]\n",
            "[4, 6, 8, 3, 1, 7, 5, 2]\n",
            "[4, 7, 1, 8, 5, 2, 6, 3]\n",
            "[4, 7, 3, 8, 2, 5, 1, 6]\n",
            "[4, 7, 5, 2, 6, 1, 3, 8]\n",
            "[4, 7, 5, 3, 1, 6, 8, 2]\n",
            "[4, 8, 1, 3, 6, 2, 7, 5]\n",
            "[4, 8, 1, 5, 7, 2, 6, 3]\n",
            "[4, 8, 5, 3, 1, 7, 2, 6]\n",
            "[5, 1, 4, 6, 8, 2, 7, 3]\n",
            "[5, 1, 8, 4, 2, 7, 3, 6]\n",
            "[5, 1, 8, 6, 3, 7, 2, 4]\n",
            "[5, 2, 4, 6, 8, 3, 1, 7]\n",
            "[5, 2, 4, 7, 3, 8, 6, 1]\n",
            "[5, 2, 6, 1, 7, 4, 8, 3]\n",
            "[5, 2, 8, 1, 4, 7, 3, 6]\n",
            "[5, 3, 1, 6, 8, 2, 4, 7]\n",
            "[5, 3, 1, 7, 2, 8, 6, 4]\n",
            "[5, 3, 8, 4, 7, 1, 6, 2]\n",
            "[5, 7, 1, 3, 8, 6, 4, 2]\n",
            "[5, 7, 1, 4, 2, 8, 6, 3]\n",
            "[5, 7, 2, 4, 8, 1, 3, 6]\n",
            "[5, 7, 2, 6, 3, 1, 4, 8]\n",
            "[5, 7, 2, 6, 3, 1, 8, 4]\n",
            "[5, 7, 4, 1, 3, 8, 6, 2]\n",
            "[5, 8, 4, 1, 3, 6, 2, 7]\n",
            "[5, 8, 4, 1, 7, 2, 6, 3]\n",
            "[6, 1, 5, 2, 8, 3, 7, 4]\n",
            "[6, 2, 7, 1, 3, 5, 8, 4]\n",
            "[6, 2, 7, 1, 4, 8, 5, 3]\n",
            "[6, 3, 1, 7, 5, 8, 2, 4]\n",
            "[6, 3, 1, 8, 4, 2, 7, 5]\n",
            "[6, 3, 1, 8, 5, 2, 4, 7]\n",
            "[6, 3, 5, 7, 1, 4, 2, 8]\n",
            "[6, 3, 5, 8, 1, 4, 2, 7]\n",
            "[6, 3, 7, 2, 4, 8, 1, 5]\n",
            "[6, 3, 7, 2, 8, 5, 1, 4]\n",
            "[6, 3, 7, 4, 1, 8, 2, 5]\n",
            "[6, 4, 1, 5, 8, 2, 7, 3]\n",
            "[6, 4, 2, 8, 5, 7, 1, 3]\n",
            "[6, 4, 7, 1, 3, 5, 2, 8]\n",
            "[6, 4, 7, 1, 8, 2, 5, 3]\n",
            "[6, 8, 2, 4, 1, 7, 5, 3]\n",
            "[7, 1, 3, 8, 6, 4, 2, 5]\n",
            "[7, 2, 4, 1, 8, 5, 3, 6]\n",
            "[7, 2, 6, 3, 1, 4, 8, 5]\n",
            "[7, 3, 1, 6, 8, 5, 2, 4]\n",
            "[7, 3, 8, 2, 5, 1, 6, 4]\n",
            "[7, 4, 2, 5, 8, 1, 3, 6]\n",
            "[7, 4, 2, 8, 6, 1, 3, 5]\n",
            "[7, 5, 3, 1, 6, 8, 2, 4]\n",
            "[8, 2, 4, 1, 7, 5, 3, 6]\n",
            "[8, 2, 5, 3, 1, 7, 4, 6]\n",
            "[8, 3, 1, 6, 2, 5, 7, 4]\n",
            "[8, 4, 1, 3, 6, 2, 7, 5]\n"
          ]
        }
      ]
    },
    {
      "cell_type": "code",
      "metadata": {
        "id": "eTZclKH9QV0R",
        "colab": {
          "base_uri": "https://localhost:8080/"
        },
        "outputId": "12fb56f5-881a-4acc-a52d-5ed260f813ed"
      },
      "source": [
        "escribe_solucion([1, 5, 8, 6, 3, 7, 2, 4])"
      ],
      "execution_count": null,
      "outputs": [
        {
          "output_type": "stream",
          "name": "stdout",
          "text": [
            "\n",
            " X  -  -  -  -  -  -  - \n",
            " -  -  -  -  -  -  X  - \n",
            " -  -  -  -  X  -  -  - \n",
            " -  -  -  -  -  -  -  X \n",
            " -  X  -  -  -  -  -  - \n",
            " -  -  -  X  -  -  -  - \n",
            " -  -  -  -  -  X  -  - \n",
            " -  -  X  -  -  -  -  - "
          ]
        }
      ]
    },
    {
      "cell_type": "code",
      "metadata": {
        "id": "TocxR55dQWq5",
        "outputId": "90cdf27e-b470-474a-88f3-b62f53d57215",
        "colab": {
          "base_uri": "https://localhost:8080/",
          "height": 381
        }
      },
      "source": [
        "#Viaje por el rio - Programación dinámica\n",
        "################################################################################\n",
        "\n",
        "TARIFAS = [\n",
        "[0,5,4,3,999,999,999],\n",
        "[999,0,999,2,3,999,11],\n",
        "[999,999, 0,1,999,4,10],\n",
        "[999,999,999, 0,5,6,9],\n",
        "[999,999, 999,999,0,999,4],\n",
        "[999,999, 999,999,999,0,3],\n",
        "[999,999,999,999,999,999,0]\n",
        "]\n",
        "\n",
        "#999 se puede sustituir por float(\"inf\")\n",
        "\n",
        "\n",
        "#Calculo de la matriz de PRECIOS y RUTAS\n",
        "################################################################\n",
        "def Precios(TARIFAS):\n",
        "################################################################\n",
        "  #Total de Nodos\n",
        "  N = len(TARIFAS[0])\n",
        "\n",
        "  #Inicialización de la tabla de precios\n",
        "  PRECIOS = [ [9999]*N for i in [9999]*N]\n",
        "  RUTA = [ [\"\"]*N for i in [\"\"]*N]\n",
        "\n",
        "  for i in range(0,N-1):\n",
        "    RUTA[i][i] = i             #Para ir de i a i se \"pasa por i\"\n",
        "    PRECIOS[i][i] = 0          #Para ir de i a i se se paga 0\n",
        "    for j in range(i+1, N):\n",
        "      MIN = TARIFAS[i][j]\n",
        "      RUTA[i][j] = i\n",
        "\n",
        "      for k in range(i, j):\n",
        "        if PRECIOS[i][k] + TARIFAS[k][j] < MIN:\n",
        "            MIN = min(MIN, PRECIOS[i][k] + TARIFAS[k][j] )\n",
        "            RUTA[i][j] = k          #Anota que para ir de i a j hay que pasar por k\n",
        "        PRECIOS[i][j] = MIN\n",
        "\n",
        "  return PRECIOS,RUTA\n",
        "################################################################\n",
        "\n",
        "PRECIOS,RUTA = Precios(TARIFAS)\n",
        "#print(PRECIOS[0][6])\n",
        "\n",
        "print(\"PRECIOS\")\n",
        "for i in range(len(TARIFAS)):\n",
        "  print(PRECIOS[i])\n",
        "\n",
        "print(\"\\nRUTA\")\n",
        "for i in range(len(TARIFAS)):\n",
        "  print(RUTA[i])\n",
        "\n",
        "#Determinar la ruta con Recursividad\n",
        "def calcular_ruta(RUTA, desde, hasta):\n",
        "  if desde == hasta:\n",
        "    #print(\"Ir a :\" + str(desde))\n",
        "    return \"\"\n",
        "  else:\n",
        "    return str(calcular_ruta( RUTA, desde, RUTA[desde][hasta])) +  \\\n",
        "                ',' + \\\n",
        "                str(RUTA[desde][hasta] \\\n",
        "              )\n",
        "\n",
        "print(\"\\nLa ruta es:\")\n",
        "calcular_ruta(RUTA, 0,6)"
      ],
      "execution_count": null,
      "outputs": [
        {
          "output_type": "stream",
          "name": "stdout",
          "text": [
            "PRECIOS\n",
            "[0, 5, 4, 3, 8, 8, 11]\n",
            "[9999, 0, 999, 2, 3, 8, 7]\n",
            "[9999, 9999, 0, 1, 6, 4, 7]\n",
            "[9999, 9999, 9999, 0, 5, 6, 9]\n",
            "[9999, 9999, 9999, 9999, 0, 999, 4]\n",
            "[9999, 9999, 9999, 9999, 9999, 0, 3]\n",
            "[9999, 9999, 9999, 9999, 9999, 9999, 9999]\n",
            "\n",
            "RUTA\n",
            "[0, 0, 0, 0, 1, 2, 5]\n",
            "['', 1, 1, 1, 1, 3, 4]\n",
            "['', '', 2, 2, 3, 2, 5]\n",
            "['', '', '', 3, 3, 3, 3]\n",
            "['', '', '', '', 4, 4, 4]\n",
            "['', '', '', '', '', 5, 5]\n",
            "['', '', '', '', '', '', '']\n",
            "\n",
            "La ruta es:\n"
          ]
        },
        {
          "output_type": "execute_result",
          "data": {
            "text/plain": [
              "',0,2,5'"
            ],
            "application/vnd.google.colaboratory.intrinsic+json": {
              "type": "string"
            }
          },
          "metadata": {},
          "execution_count": 2
        }
      ]
    },
    {
      "cell_type": "markdown",
      "source": [
        "## Práctica individial\n",
        "Dado un conjunto de puntos, encontrar los dos puntos más cercanos\n",
        "1. En una dimensión por fuerza bruta\n",
        "2. Calcular la complejidad, ¿se puede mejorar?\n",
        "3. En una dimensión con divide y vencerás\n",
        "4. Calcular la complejidad, ¿se puede mejorar?\n",
        "5. Resolver el problema en dos dimensiones\n",
        "6. Resolver el problema en tres dimensiones"
      ],
      "metadata": {
        "id": "CtFcF3r0xn7J"
      }
    },
    {
      "cell_type": "code",
      "source": [
        "import random\n",
        "\n",
        "random.seed(42)\n",
        "\n",
        "# Eliminamos valores duplicados usando sets, para poder verificar mejor los cálculos de distancia\n",
        "Lista_1D = [random.randrange(1,10000) for x in range(1000)]\n",
        "Lista_1D = list(set(Lista_1D))\n",
        "\n",
        "Lista_2D = [(random.randrange(1,10000), random.randrange(1,10000)) for x in range(1000)]\n",
        "Lista_2D = list(set(Lista_2D))\n",
        "\n",
        "Lista_3D = [(random.randrange(1,10000), random.randrange(1,10000), random.randrange(1,10000)) for x in range(1000)]\n",
        "Lista_3D = list(set(Lista_3D))"
      ],
      "metadata": {
        "id": "Ha7qq2CnxlLA"
      },
      "execution_count": 61,
      "outputs": []
    },
    {
      "cell_type": "markdown",
      "source": [
        "### Fuerza bruta"
      ],
      "metadata": {
        "id": "i4J12roi7ter"
      }
    },
    {
      "cell_type": "code",
      "source": [
        "# 1D FUERZA BRUTA\n",
        "\n",
        "punto_1 = 0\n",
        "punto_2 = 0\n",
        "min_distance = float('inf')\n",
        "\n",
        "for idx, p1 in enumerate(Lista_1D):\n",
        "  for p2 in Lista_1D[idx+1:]:\n",
        "      distance = abs(p2-p1)\n",
        "      if (distance < min_distance):\n",
        "        min_distance = distance\n",
        "        punto_1 = p1\n",
        "        punto_2 = p2\n",
        "\n",
        "print(f\"Los puntos más cercanos son {punto_1} y {punto_2} con una distancia de {min_distance}\")"
      ],
      "metadata": {
        "colab": {
          "base_uri": "https://localhost:8080/"
        },
        "id": "20lT7DTryrbQ",
        "outputId": "908079d6-c846-4abb-a764-0b015a2fc416"
      },
      "execution_count": 62,
      "outputs": [
        {
          "output_type": "stream",
          "name": "stdout",
          "text": [
            "Los puntos más cercanos son 4119 y 4120 con una distancia de 1\n"
          ]
        }
      ]
    },
    {
      "cell_type": "code",
      "source": [
        "# 2D FUERZA BRUTA\n",
        "import math\n",
        "\n",
        "punto_1 = 0\n",
        "punto_2 = 0\n",
        "min_distance = float('inf')\n",
        "\n",
        "for idx, p1 in enumerate(Lista_2D):\n",
        "  for p2 in Lista_2D[idx+1:]:\n",
        "      distance = math.sqrt((p2[0] - p1[0])**2 + (p2[1]-p1[1])**2)\n",
        "      if (distance < min_distance):\n",
        "        min_distance = distance\n",
        "        punto_1 = p1\n",
        "        punto_2 = p2\n",
        "\n",
        "print(f\"Los puntos más cercanos son {punto_1} y {punto_2} con una distancia de {min_distance}\")"
      ],
      "metadata": {
        "id": "FW92LDFH2SGB",
        "outputId": "68fb1472-9ad0-4b97-ba4f-bc5cadc639f1",
        "colab": {
          "base_uri": "https://localhost:8080/"
        }
      },
      "execution_count": 63,
      "outputs": [
        {
          "output_type": "stream",
          "name": "stdout",
          "text": [
            "Los puntos más cercanos son (3395, 9618) y (3395, 9608) con una distancia de 10.0\n"
          ]
        }
      ]
    },
    {
      "cell_type": "code",
      "source": [
        "# 3D FUERZA BRUTA\n",
        "import math\n",
        "\n",
        "punto_1 = 0\n",
        "punto_2 = 0\n",
        "min_distance = float('inf')\n",
        "\n",
        "for idx, p1 in enumerate(Lista_3D):\n",
        "  for p2 in Lista_3D[idx+1:]:\n",
        "      distance = math.sqrt((p2[0] - p1[0])**2 + (p2[1]-p1[1])**2 + (p2[2]-p1[2])**2)\n",
        "      if (distance < min_distance):\n",
        "        min_distance = distance\n",
        "        punto_1 = p1\n",
        "        punto_2 = p2\n",
        "\n",
        "print(f\"Los puntos más cercanos son {punto_1} y {punto_2} con una distancia de {min_distance}\")"
      ],
      "metadata": {
        "id": "jHdhsoSd3EEK",
        "outputId": "92ca8b1c-c1c4-45f8-df13-a0bbdc5a7912",
        "colab": {
          "base_uri": "https://localhost:8080/"
        }
      },
      "execution_count": 64,
      "outputs": [
        {
          "output_type": "stream",
          "name": "stdout",
          "text": [
            "Los puntos más cercanos son (2628, 646, 8981) y (2599, 692, 9005) con una distancia de 59.43904440685432\n"
          ]
        }
      ]
    },
    {
      "cell_type": "markdown",
      "source": [
        "### Calculo de complejidad\n",
        "\n",
        "El algoritmo recorre la lista dos veces por cada elemento, por tanto posee complejidad O(n^2).\n",
        "\n",
        "Si ordenamos la lista, solo debemos comparar los elementos contiguos por lo que únicamente se recorre la lista una vez obteniendo O(n)"
      ],
      "metadata": {
        "id": "Hr5yD17m3Qpi"
      }
    },
    {
      "cell_type": "code",
      "source": [
        "punto_1 = 0\n",
        "punto_2 = 0\n",
        "min_distance = float('inf')\n",
        "\n",
        "sorted_list_1D = Lista_1D.copy()\n",
        "sorted_list_1D.sort()\n",
        "\n",
        "for idx in range(len(sorted_list_1D)-1):\n",
        "    distance = abs(sorted_list_1D[idx+1]-sorted_list_1D[idx])\n",
        "    if (distance < min_distance):\n",
        "      min_distance = distance\n",
        "      punto_1 = sorted_list_1D[idx]\n",
        "      punto_2 = sorted_list_1D[idx+1]\n",
        "\n",
        "print(f\"Los puntos más cercanos son {punto_1} y {punto_2} con una distancia de {min_distance}\")"
      ],
      "metadata": {
        "id": "8FOWPrPW4qVx",
        "outputId": "f8fc306d-39dc-4251-a541-21de5ba3ad85",
        "colab": {
          "base_uri": "https://localhost:8080/"
        }
      },
      "execution_count": 69,
      "outputs": [
        {
          "output_type": "stream",
          "name": "stdout",
          "text": [
            "Los puntos más cercanos son 43 y 44 con una distancia de 1\n"
          ]
        }
      ]
    },
    {
      "cell_type": "markdown",
      "source": [
        "Aunque los números encontrados no son los mismos, la distancia más pequeña si coincide. Esto se debe a que en un conjunto de 1000 datos es muy probable encontrar dos pares de números a la misma distancia, y dependiendo de como hayamos programado el algoritmo encontraremos unos u otros."
      ],
      "metadata": {
        "id": "cLYeJjjZ7PDj"
      }
    },
    {
      "cell_type": "markdown",
      "source": [
        "### Divide y vencerás"
      ],
      "metadata": {
        "id": "4iLU4bZw7pTU"
      }
    },
    {
      "cell_type": "code",
      "source": [
        "# 1D\n",
        "\n",
        "def divide_y_venceras_distancia_1D(lista):\n",
        "   lista.sort() #ordenamos la lista para comparar elementos adyacentes\n",
        "   min_distance = float('inf')\n",
        "   n = len(lista)\n",
        "\n",
        "   if n < 2: # caso base, si no hay suficientes elementos\n",
        "      return 0, float(\"inf\")\n",
        "   if n == 2: # caso base, si solo hay dos elementos\n",
        "      return lista[0], lista[1]\n",
        "\n",
        "   else:\n",
        "      punto_1 = 0\n",
        "      punto_2 = 0\n",
        "\n",
        "      pivote = n // 2\n",
        "      lista_izda = lista[:pivote]\n",
        "      lista_dcha = lista[pivote:]\n",
        "\n",
        "      p1, p2 = divide_y_venceras_distancia_1D(lista_izda) # recursividad division izquierda\n",
        "      dist = abs(p1 - p2)\n",
        "      if dist < min_distance:\n",
        "        min_distance = dist\n",
        "        punto_1, punto_2 = p1, p2\n",
        "\n",
        "\n",
        "      p1, p2 = divide_y_venceras_distancia_1D(lista_dcha) #recursividad division derecha\n",
        "      dist = abs(p1 - p2)\n",
        "      if dist < min_distance:\n",
        "        min_distance = dist\n",
        "        punto_1, punto_2 = p1, p2\n",
        "\n",
        "\n",
        "      p1, p2 = lista[pivote-1], lista[pivote] #comparación distancia entre el ultimo punto de la lista izquierda y el primero de la derecha\n",
        "      dist = abs(p1 - p2)\n",
        "      if dist < min_distance:\n",
        "        min_distance = dist\n",
        "        punto_1, punto_2 = p1, p2\n",
        "\n",
        "      return punto_1, punto_2\n",
        "\n",
        "punto_1, punto_2 = divide_y_venceras_distancia_1D(Lista_1D)\n",
        "distancia = abs(punto_1 - punto_2)\n",
        "print(f\"Los puntos más cercanos son {punto_1} y {punto_2} con una distancia de {distancia}\")"
      ],
      "metadata": {
        "id": "Di6ijRLB7iMM",
        "outputId": "0cd43322-061b-49c6-a473-926540576880",
        "colab": {
          "base_uri": "https://localhost:8080/"
        }
      },
      "execution_count": 66,
      "outputs": [
        {
          "output_type": "stream",
          "name": "stdout",
          "text": [
            "Los puntos más cercanos son 43 y 44 con una distancia de 1\n"
          ]
        }
      ]
    },
    {
      "cell_type": "code",
      "source": [
        "# 2D\n",
        "\n",
        "def divide_y_venceras_distancia_2D(lista):\n",
        "   lista.sort() #ordenamos la lista para comparar elementos adyacentes\n",
        "   min_distance = float('inf')\n",
        "   n = len(lista)\n",
        "\n",
        "   if n < 2: # caso base, si no hay suficientes elementos\n",
        "      return (0,0), (float(\"inf\"), float(\"inf\"))\n",
        "   if n == 2: # caso base, si solo hay dos elementos\n",
        "      return lista[0], lista[1]\n",
        "\n",
        "\n",
        "   else:\n",
        "      punto_1 = 0\n",
        "      punto_2 = 0\n",
        "\n",
        "      pivote = n // 2\n",
        "      lista_izda = lista[:pivote]\n",
        "      lista_dcha = lista[pivote:]\n",
        "\n",
        "      p1, p2 = divide_y_venceras_distancia_2D(lista_izda) # recursividad division izquierda\n",
        "      dist = math.sqrt((p2[0] - p1[0])**2 + (p2[1]-p1[1])**2)\n",
        "      if dist < min_distance:\n",
        "        min_distance = dist\n",
        "        punto_1, punto_2 = p1, p2\n",
        "\n",
        "\n",
        "      p1, p2 = divide_y_venceras_distancia_2D(lista_dcha) #recursividad division derecha\n",
        "      dist = math.sqrt((p2[0] - p1[0])**2 + (p2[1]-p1[1])**2)\n",
        "      if dist < min_distance:\n",
        "        min_distance = dist\n",
        "        punto_1, punto_2 = p1, p2\n",
        "\n",
        "\n",
        "      p1, p2 = lista[pivote-1], lista[pivote] #comparación distancia entre el ultimo punto de la lista izquierda y el primero de la derecha\n",
        "      dist = math.sqrt((p2[0] - p1[0])**2 + (p2[1]-p1[1])**2)\n",
        "      if dist < min_distance:\n",
        "        min_distance = dist\n",
        "        punto_1, punto_2 = p1, p2\n",
        "\n",
        "      return punto_1, punto_2\n",
        "\n",
        "punto_1, punto_2 = divide_y_venceras_distancia_2D(Lista_2D)\n",
        "distancia = math.sqrt((punto_2[0] - punto_1[0])**2 + (punto_2[1]-punto_1[1])**2)\n",
        "print(f\"Los puntos más cercanos son {punto_1} y {punto_2} con una distancia de {distancia}\")"
      ],
      "metadata": {
        "id": "L4XY6KTD_AR1",
        "outputId": "b7aaad41-e5f9-40c9-e71b-9082f5d2ec96",
        "colab": {
          "base_uri": "https://localhost:8080/"
        }
      },
      "execution_count": 67,
      "outputs": [
        {
          "output_type": "stream",
          "name": "stdout",
          "text": [
            "Los puntos más cercanos son (3395, 9608) y (3395, 9618) con una distancia de 10.0\n"
          ]
        }
      ]
    },
    {
      "cell_type": "code",
      "source": [
        "# 3D\n",
        "\n",
        "def divide_y_venceras_distancia_3D(lista):\n",
        "   lista.sort() #ordenamos la lista para comparar elementos adyacentes\n",
        "   min_distance = float('inf')\n",
        "   n = len(lista)\n",
        "\n",
        "   if n < 2: # caso base, si no hay suficientes elementos\n",
        "      return (0,0,0), (float(\"inf\"), float(\"inf\"), float(\"inf\"))\n",
        "   if n == 2: # caso base, si solo hay dos elementos\n",
        "      return lista[0], lista[1]\n",
        "\n",
        "\n",
        "   else:\n",
        "      punto_1 = 0\n",
        "      punto_2 = 0\n",
        "\n",
        "      pivote = n // 2\n",
        "      lista_izda = lista[:pivote]\n",
        "      lista_dcha = lista[pivote:]\n",
        "\n",
        "      p1, p2 = divide_y_venceras_distancia_3D(lista_izda) # recursividad division izquierda\n",
        "      dist = math.sqrt((p2[0] - p1[0])**2 + (p2[1]-p1[1])**2 + (p2[2]-p1[2])**2)\n",
        "      if dist < min_distance:\n",
        "        min_distance = dist\n",
        "        punto_1, punto_2 = p1, p2\n",
        "\n",
        "\n",
        "      p1, p2 = divide_y_venceras_distancia_3D(lista_dcha) #recursividad division derecha\n",
        "      dist = math.sqrt((p2[0] - p1[0])**2 + (p2[1]-p1[1])**2 + (p2[2]-p1[2])**2)\n",
        "      if dist < min_distance:\n",
        "        min_distance = dist\n",
        "        punto_1, punto_2 = p1, p2\n",
        "\n",
        "\n",
        "      p1, p2 = lista[pivote-1], lista[pivote] #comparación distancia entre el ultimo punto de la lista izquierda y el primero de la derecha\n",
        "      dist = math.sqrt((p2[0] - p1[0])**2 + (p2[1]-p1[1])**2 + (p2[2]-p1[2])**2)\n",
        "      if dist < min_distance:\n",
        "        min_distance = dist\n",
        "        punto_1, punto_2 = p1, p2\n",
        "\n",
        "      return punto_1, punto_2\n",
        "\n",
        "punto_1, punto_2 = divide_y_venceras_distancia_3D(Lista_3D)\n",
        "distancia = math.sqrt((punto_2[0] - punto_1[0])**2 + (punto_2[1]-punto_1[1])**2 + (punto_2[2]-punto_1[2])**2)\n",
        "print(f\"Los puntos más cercanos son {punto_1} y {punto_2} con una distancia de {distancia}\")"
      ],
      "metadata": {
        "id": "ZeoTgnC3BBel",
        "outputId": "56382cb1-a194-4925-cd2a-66e77666739b",
        "colab": {
          "base_uri": "https://localhost:8080/"
        }
      },
      "execution_count": 68,
      "outputs": [
        {
          "output_type": "stream",
          "name": "stdout",
          "text": [
            "Los puntos más cercanos son (2932, 9150, 9145) y (2936, 9280, 9271) con una distancia de 181.08561511064318\n"
          ]
        }
      ]
    },
    {
      "cell_type": "markdown",
      "source": [
        "### Calculo de complejidad\n",
        "La complejidad temporal de este algoritmo es O(n log n) debido a que la división de los problemas en subproblemas se realiza en tiempos logarítmicos y la resolución de cada subproblema requiere un tiempo lineal."
      ],
      "metadata": {
        "id": "_k0JGd9KGIXG"
      }
    }
  ]
}